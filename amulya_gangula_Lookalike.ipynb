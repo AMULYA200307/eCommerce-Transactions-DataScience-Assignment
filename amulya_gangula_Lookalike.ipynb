{
  "nbformat": 4,
  "nbformat_minor": 0,
  "metadata": {
    "colab": {
      "provenance": []
    },
    "kernelspec": {
      "name": "python3",
      "display_name": "Python 3"
    },
    "language_info": {
      "name": "python"
    }
  },
  "cells": [
    {
      "cell_type": "markdown",
      "source": [
        "Build a Lookalike Model that takes a user's information as input and recommends 3 similar\n",
        "customers based on their profile and transaction history. The model should:\n",
        "● Use both customer and product information.\n",
        "● Assign a similarity score to each recommended customer.\n",
        "Deliverables:\n",
        "● Give the top 3 lookalikes with there similarity scores for the first 20 customers\n",
        "(CustomerID: C0001 - C0020) in Customers.csv. Form an “Lookalike.csv” which has\n",
        "just one map: Map<cust_id, List<cust_id, score>>\n",
        "● A Jupyter Notebook/Python script explaining your model development.\n",
        "Evaluation Criteria:\n",
        "● Model accuracy and logic.\n",
        "● Quality of recommendations and similarity scores."
      ],
      "metadata": {
        "id": "Wdez2muS8xhQ"
      }
    },
    {
      "cell_type": "markdown",
      "source": [
        "#####Step 1: Load and Explore Data"
      ],
      "metadata": {
        "id": "_02-ZQ0X5klj"
      }
    },
    {
      "cell_type": "code",
      "source": [
        "#import libraries\n",
        "import pandas as pd\n",
        "from datetime import datetime\n",
        "import numpy as np"
      ],
      "metadata": {
        "id": "-79n4L2f32za"
      },
      "execution_count": 18,
      "outputs": []
    },
    {
      "cell_type": "code",
      "source": [
        "# Load datasets\n",
        "customers = pd.read_csv('Customers.csv')\n",
        "products = pd.read_csv('Products.csv')\n",
        "transactions = pd.read_csv('Transactions.csv')"
      ],
      "metadata": {
        "id": "o24ptlMj3rzu"
      },
      "execution_count": 3,
      "outputs": []
    },
    {
      "cell_type": "code",
      "source": [
        "# Inspect data\n",
        "print(\"Customers Dataset:\")\n",
        "print(customers.head(), \"\\n\")\n",
        "print(customers.info(), \"\\n\")"
      ],
      "metadata": {
        "colab": {
          "base_uri": "https://localhost:8080/"
        },
        "id": "ZXyB4xg53yPd",
        "outputId": "4cfce902-8154-41bf-ccc6-2ab9cc4058c4"
      },
      "execution_count": 4,
      "outputs": [
        {
          "output_type": "stream",
          "name": "stdout",
          "text": [
            "Customers Dataset:\n",
            "  CustomerID        CustomerName         Region  SignupDate\n",
            "0      C0001    Lawrence Carroll  South America  2022-07-10\n",
            "1      C0002      Elizabeth Lutz           Asia  2022-02-13\n",
            "2      C0003      Michael Rivera  South America  2024-03-07\n",
            "3      C0004  Kathleen Rodriguez  South America  2022-10-09\n",
            "4      C0005         Laura Weber           Asia  2022-08-15 \n",
            "\n",
            "<class 'pandas.core.frame.DataFrame'>\n",
            "RangeIndex: 200 entries, 0 to 199\n",
            "Data columns (total 4 columns):\n",
            " #   Column        Non-Null Count  Dtype \n",
            "---  ------        --------------  ----- \n",
            " 0   CustomerID    200 non-null    object\n",
            " 1   CustomerName  200 non-null    object\n",
            " 2   Region        200 non-null    object\n",
            " 3   SignupDate    200 non-null    object\n",
            "dtypes: object(4)\n",
            "memory usage: 6.4+ KB\n",
            "None \n",
            "\n"
          ]
        }
      ]
    },
    {
      "cell_type": "code",
      "source": [
        "print(\"Products Dataset:\")\n",
        "print(products.head(), \"\\n\")\n",
        "print(products.info(), \"\\n\")"
      ],
      "metadata": {
        "colab": {
          "base_uri": "https://localhost:8080/"
        },
        "id": "3cn5w15k3tLU",
        "outputId": "9838c6ee-745b-414b-8463-82297feb1d5f"
      },
      "execution_count": 5,
      "outputs": [
        {
          "output_type": "stream",
          "name": "stdout",
          "text": [
            "Products Dataset:\n",
            "  ProductID              ProductName     Category   Price\n",
            "0      P001     ActiveWear Biography        Books  169.30\n",
            "1      P002    ActiveWear Smartwatch  Electronics  346.30\n",
            "2      P003  ComfortLiving Biography        Books   44.12\n",
            "3      P004            BookWorld Rug   Home Decor   95.69\n",
            "4      P005          TechPro T-Shirt     Clothing  429.31 \n",
            "\n",
            "<class 'pandas.core.frame.DataFrame'>\n",
            "RangeIndex: 100 entries, 0 to 99\n",
            "Data columns (total 4 columns):\n",
            " #   Column       Non-Null Count  Dtype  \n",
            "---  ------       --------------  -----  \n",
            " 0   ProductID    100 non-null    object \n",
            " 1   ProductName  100 non-null    object \n",
            " 2   Category     100 non-null    object \n",
            " 3   Price        100 non-null    float64\n",
            "dtypes: float64(1), object(3)\n",
            "memory usage: 3.3+ KB\n",
            "None \n",
            "\n"
          ]
        }
      ]
    },
    {
      "cell_type": "code",
      "source": [
        "print(\"Transactions Dataset:\")\n",
        "print(transactions.head(), \"\\n\")\n",
        "print(transactions.info(), \"\\n\")"
      ],
      "metadata": {
        "colab": {
          "base_uri": "https://localhost:8080/"
        },
        "id": "79DT41Ff31f1",
        "outputId": "51399b8e-0aaf-4ade-d5b8-923939148dcb"
      },
      "execution_count": 6,
      "outputs": [
        {
          "output_type": "stream",
          "name": "stdout",
          "text": [
            "Transactions Dataset:\n",
            "  TransactionID CustomerID ProductID      TransactionDate  Quantity  \\\n",
            "0        T00001      C0199      P067  2024-08-25 12:38:23         1   \n",
            "1        T00112      C0146      P067  2024-05-27 22:23:54         1   \n",
            "2        T00166      C0127      P067  2024-04-25 07:38:55         1   \n",
            "3        T00272      C0087      P067  2024-03-26 22:55:37         2   \n",
            "4        T00363      C0070      P067  2024-03-21 15:10:10         3   \n",
            "\n",
            "   TotalValue   Price  \n",
            "0      300.68  300.68  \n",
            "1      300.68  300.68  \n",
            "2      300.68  300.68  \n",
            "3      601.36  300.68  \n",
            "4      902.04  300.68   \n",
            "\n",
            "<class 'pandas.core.frame.DataFrame'>\n",
            "RangeIndex: 1000 entries, 0 to 999\n",
            "Data columns (total 7 columns):\n",
            " #   Column           Non-Null Count  Dtype  \n",
            "---  ------           --------------  -----  \n",
            " 0   TransactionID    1000 non-null   object \n",
            " 1   CustomerID       1000 non-null   object \n",
            " 2   ProductID        1000 non-null   object \n",
            " 3   TransactionDate  1000 non-null   object \n",
            " 4   Quantity         1000 non-null   int64  \n",
            " 5   TotalValue       1000 non-null   float64\n",
            " 6   Price            1000 non-null   float64\n",
            "dtypes: float64(2), int64(1), object(4)\n",
            "memory usage: 54.8+ KB\n",
            "None \n",
            "\n"
          ]
        }
      ]
    },
    {
      "cell_type": "markdown",
      "source": [
        "####Step 2: Data Preprocessing\n",
        "\n",
        "Objective: Clean and prepare the data for feature engineering."
      ],
      "metadata": {
        "id": "F_lz8SVR5tQG"
      }
    },
    {
      "cell_type": "markdown",
      "source": [
        "Handle Missing Values:\n",
        "\n",
        "\n",
        "Check if any rows in Customers.csv, Products.csv, or Transactions.csv have missing values.\n",
        "\n",
        "Drop or fill missing values as appropriate."
      ],
      "metadata": {
        "id": "Jzx0A_KJ-ncy"
      }
    },
    {
      "cell_type": "code",
      "execution_count": 8,
      "metadata": {
        "colab": {
          "base_uri": "https://localhost:8080/"
        },
        "id": "pZ_NDcQ-3NBF",
        "outputId": "44bfde8e-d932-41ce-8123-5abdd6cc43ab"
      },
      "outputs": [
        {
          "output_type": "stream",
          "name": "stdout",
          "text": [
            "Missing Values:\n",
            "CustomerID      0\n",
            "CustomerName    0\n",
            "Region          0\n",
            "SignupDate      0\n",
            "dtype: int64 \n",
            "\n",
            "ProductID      0\n",
            "ProductName    0\n",
            "Category       0\n",
            "Price          0\n",
            "dtype: int64 \n",
            "\n",
            "TransactionID      0\n",
            "CustomerID         0\n",
            "ProductID          0\n",
            "TransactionDate    0\n",
            "Quantity           0\n",
            "TotalValue         0\n",
            "Price              0\n",
            "dtype: int64 \n",
            "\n"
          ]
        }
      ],
      "source": [
        "# 1. Handle missing values\n",
        "print(\"Missing Values:\")\n",
        "print(customers.isnull().sum(), \"\\n\")\n",
        "print(products.isnull().sum(), \"\\n\")\n",
        "print(transactions.isnull().sum(), \"\\n\")"
      ]
    },
    {
      "cell_type": "code",
      "source": [
        "# 2. Remove duplicates\n",
        "customers = customers.drop_duplicates()\n",
        "products = products.drop_duplicates()\n",
        "transactions = transactions.drop_duplicates()"
      ],
      "metadata": {
        "id": "vOPcUHX94WIc"
      },
      "execution_count": 10,
      "outputs": []
    },
    {
      "cell_type": "markdown",
      "source": [
        "Convert Dates to Datetime:\n",
        "\n",
        "\n",
        "Convert SignupDate in Customers.csv and TransactionDate in Transactions.csv to datetime format."
      ],
      "metadata": {
        "id": "SMZCFNxe9wVu"
      }
    },
    {
      "cell_type": "code",
      "source": [
        "# 3. Convert dates to datetime\n",
        "customers['SignupDate'] = pd.to_datetime(customers['SignupDate'])\n",
        "transactions['TransactionDate'] = pd.to_datetime(transactions['TransactionDate'])"
      ],
      "metadata": {
        "id": "CYgAxVZD4j2R"
      },
      "execution_count": 13,
      "outputs": []
    },
    {
      "cell_type": "markdown",
      "source": [
        "Add new columns:\n",
        "\n",
        "1.days_since_signup in Customers.csv (difference between today and signup date).\n",
        "\n",
        "2.days_since_transaction in Transactions.csv (difference between today and transaction date)."
      ],
      "metadata": {
        "id": "INCB78Vz9zmG"
      }
    },
    {
      "cell_type": "code",
      "source": [
        "# 4. Create new features\n",
        "today = datetime.now()\n",
        "customers['days_since_signup'] = (today - customers['SignupDate']).dt.days\n",
        "transactions['days_since_transaction'] = (today - transactions['TransactionDate']).dt.days"
      ],
      "metadata": {
        "id": "ZGpXnL1M4m9N"
      },
      "execution_count": 14,
      "outputs": []
    },
    {
      "cell_type": "markdown",
      "source": [
        "Merge Datasets:\n",
        "\n",
        "1.Merge Transactions.csv with Products.csv to get product details in transactions.\n",
        "\n",
        "2.Merge the result with Customers.csv to get a complete dataset."
      ],
      "metadata": {
        "id": "0AxU6Fx9-Rbq"
      }
    },
    {
      "cell_type": "code",
      "source": [
        "# 5. Merge datasets\n",
        "transactions = transactions.merge(products, on='ProductID', how='left')\n",
        "complete_data = transactions.merge(customers, on='CustomerID', how='left')"
      ],
      "metadata": {
        "id": "QPErcmOw4pxN"
      },
      "execution_count": 15,
      "outputs": []
    },
    {
      "cell_type": "code",
      "source": [
        "print(\"Merged Dataset:\")\n",
        "print(complete_data.head())"
      ],
      "metadata": {
        "colab": {
          "base_uri": "https://localhost:8080/"
        },
        "id": "ExvjoKOi4r99",
        "outputId": "e88475b8-988b-4048-9b74-eca20ec1c100"
      },
      "execution_count": 16,
      "outputs": [
        {
          "output_type": "stream",
          "name": "stdout",
          "text": [
            "Merged Dataset:\n",
            "  TransactionID CustomerID ProductID     TransactionDate  Quantity  \\\n",
            "0        T00001      C0199      P067 2024-08-25 12:38:23         1   \n",
            "1        T00112      C0146      P067 2024-05-27 22:23:54         1   \n",
            "2        T00166      C0127      P067 2024-04-25 07:38:55         1   \n",
            "3        T00272      C0087      P067 2024-03-26 22:55:37         2   \n",
            "4        T00363      C0070      P067 2024-03-21 15:10:10         3   \n",
            "\n",
            "   TotalValue  Price_x  days_since_transaction  \\\n",
            "0      300.68   300.68                     154   \n",
            "1      300.68   300.68                     244   \n",
            "2      300.68   300.68                     277   \n",
            "3      601.36   300.68                     306   \n",
            "4      902.04   300.68                     311   \n",
            "\n",
            "                       ProductName     Category  Price_y     CustomerName  \\\n",
            "0  ComfortLiving Bluetooth Speaker  Electronics   300.68   Andrea Jenkins   \n",
            "1  ComfortLiving Bluetooth Speaker  Electronics   300.68  Brittany Harvey   \n",
            "2  ComfortLiving Bluetooth Speaker  Electronics   300.68  Kathryn Stevens   \n",
            "3  ComfortLiving Bluetooth Speaker  Electronics   300.68  Travis Campbell   \n",
            "4  ComfortLiving Bluetooth Speaker  Electronics   300.68    Timothy Perez   \n",
            "\n",
            "          Region SignupDate  days_since_signup  \n",
            "0         Europe 2022-12-03                786  \n",
            "1           Asia 2024-09-04                145  \n",
            "2         Europe 2024-04-04                298  \n",
            "3  South America 2024-04-11                291  \n",
            "4         Europe 2022-03-15               1049  \n"
          ]
        }
      ]
    },
    {
      "cell_type": "markdown",
      "source": [
        "####Step 3: Feature Engineering"
      ],
      "metadata": {
        "id": "57sjmBmk5ypD"
      }
    },
    {
      "cell_type": "markdown",
      "source": [
        "Objective: Create a feature set that combines customer profiles and transaction history, which can be used to compute similarity."
      ],
      "metadata": {
        "id": "zGPkNF3T-u-G"
      }
    },
    {
      "cell_type": "markdown",
      "source": [
        "Aggregate Transaction History:\n",
        "\n",
        "For each customer:\n",
        "\n",
        "Total spending: Sum of TotalValue.\n",
        "\n",
        "Total quantity purchased: Sum of Quantity.\n",
        "\n",
        "Count of unique products purchased.\n",
        "\n",
        "Most frequent product categories (use one-hot encoding or counts)."
      ],
      "metadata": {
        "id": "vdU9lOKv_XAd"
      }
    },
    {
      "cell_type": "code",
      "source": [
        "from sklearn.preprocessing import MinMaxScaler"
      ],
      "metadata": {
        "id": "G4EOgzFY45Id"
      },
      "execution_count": 17,
      "outputs": []
    },
    {
      "cell_type": "code",
      "source": [
        "# 1. Aggregate transaction history\n",
        "agg_data = complete_data.groupby('CustomerID').agg({\n",
        "    'TotalValue': 'sum',  # Total spending\n",
        "    'Quantity': 'sum',    # Total quantity purchased\n",
        "    'ProductID': 'nunique',  # Number of unique products\n",
        "    'Category': lambda x: x.mode()[0]  # Most frequent product category\n",
        "}).reset_index()\n",
        "agg_data.rename(columns={\n",
        "    'TotalValue': 'total_spending',\n",
        "    'Quantity': 'total_quantity',\n",
        "    'ProductID': 'unique_products',\n",
        "    'Category': 'favorite_category'\n",
        "}, inplace=True)"
      ],
      "metadata": {
        "id": "RB29Sopi5JVw"
      },
      "execution_count": 20,
      "outputs": []
    },
    {
      "cell_type": "code",
      "source": [
        "# One-hot encode favorite_category\n",
        "agg_data = pd.get_dummies(agg_data, columns=['favorite_category'], prefix='category')"
      ],
      "metadata": {
        "id": "WnqDw2255KrN"
      },
      "execution_count": 21,
      "outputs": []
    },
    {
      "cell_type": "code",
      "source": [
        "# 2. Normalize numerical features\n",
        "scaler = MinMaxScaler()\n",
        "agg_data[['total_spending', 'total_quantity', 'unique_products']] = scaler.fit_transform(\n",
        "    agg_data[['total_spending', 'total_quantity', 'unique_products']]\n",
        ")"
      ],
      "metadata": {
        "id": "yKbkDP1X5S-B"
      },
      "execution_count": 22,
      "outputs": []
    },
    {
      "cell_type": "code",
      "source": [
        "# 3. Combine features with Customers.csv\n",
        "customer_features = customers.merge(agg_data, on='CustomerID', how='left')\n",
        "customer_features.fillna(0, inplace=True)  # Fill missing values if any\n",
        "\n",
        "print(\"Final Feature Set:\")\n",
        "print(customer_features.head())"
      ],
      "metadata": {
        "colab": {
          "base_uri": "https://localhost:8080/"
        },
        "id": "D6s9eNn35Vfi",
        "outputId": "7c48a023-2e29-4882-9126-7256394158c2"
      },
      "execution_count": 23,
      "outputs": [
        {
          "output_type": "stream",
          "name": "stdout",
          "text": [
            "Final Feature Set:\n",
            "  CustomerID        CustomerName         Region SignupDate  days_since_signup  \\\n",
            "0      C0001    Lawrence Carroll  South America 2022-07-10                932   \n",
            "1      C0002      Elizabeth Lutz           Asia 2022-02-13               1079   \n",
            "2      C0003      Michael Rivera  South America 2024-03-07                326   \n",
            "3      C0004  Kathleen Rodriguez  South America 2022-10-09                841   \n",
            "4      C0005         Laura Weber           Asia 2022-08-15                896   \n",
            "\n",
            "   total_spending  total_quantity  unique_products category_Books  \\\n",
            "0        0.308942        0.354839         0.444444          False   \n",
            "1        0.168095        0.290323         0.333333          False   \n",
            "2        0.249541        0.419355         0.333333          False   \n",
            "3        0.497806        0.709677         0.777778           True   \n",
            "4        0.184287        0.193548         0.222222          False   \n",
            "\n",
            "  category_Clothing category_Electronics category_Home Decor  \n",
            "0             False                 True               False  \n",
            "1              True                False               False  \n",
            "2             False                False                True  \n",
            "3             False                False               False  \n",
            "4             False                 True               False  \n"
          ]
        }
      ]
    },
    {
      "cell_type": "markdown",
      "source": [
        "###Step 4: Compute Similarity"
      ],
      "metadata": {
        "id": "MnH9Z6365bqO"
      }
    },
    {
      "cell_type": "markdown",
      "source": [
        "Objective: Use the processed customer_features to calculate similarity scores and find the top 3 lookalike customers for each customer."
      ],
      "metadata": {
        "id": "dSHHai_xA9wa"
      }
    },
    {
      "cell_type": "code",
      "source": [
        "from sklearn.metrics.pairwise import cosine_similarity"
      ],
      "metadata": {
        "id": "At5jRmxk5d35"
      },
      "execution_count": 24,
      "outputs": []
    },
    {
      "cell_type": "markdown",
      "source": [
        "Select Numerical Features:\n",
        "\n",
        "Use features like total_spending, total_quantity, unique_products and one-hot encoded product categories for similarity computation."
      ],
      "metadata": {
        "id": "pyo-1ODEBCYx"
      }
    },
    {
      "cell_type": "code",
      "source": [
        "# 1. Select numerical features for similarity\n",
        "feature_cols = customer_features.columns.difference(['CustomerID', 'CustomerName', 'Region', 'SignupDate', 'days_since_signup'])\n",
        "features_matrix = customer_features[feature_cols].values"
      ],
      "metadata": {
        "id": "VwgoeLxm583N"
      },
      "execution_count": 25,
      "outputs": []
    },
    {
      "cell_type": "markdown",
      "source": [
        "Compute Similarity:\n",
        "\n",
        "Use Cosine Similarity to measure how similar each customer is to others."
      ],
      "metadata": {
        "id": "hLwJeXqgBPrH"
      }
    },
    {
      "cell_type": "code",
      "source": [
        "# 2. Compute Cosine Similarity\n",
        "similarity_matrix = cosine_similarity(features_matrix)"
      ],
      "metadata": {
        "id": "vcOPX_H95_Dt"
      },
      "execution_count": 26,
      "outputs": []
    },
    {
      "cell_type": "markdown",
      "source": [
        "Get Top 3 Lookalikes:\n",
        "\n",
        "For each customer:\n",
        "Compute similarity scores with all other customers.\n",
        "\n",
        "Sort by similarity and select the top 3."
      ],
      "metadata": {
        "id": "aGd7NFKjBg7n"
      }
    },
    {
      "cell_type": "code",
      "source": [
        "# 3. Get top 3 lookalikes for each customer\n",
        "lookalike_dict = {}\n",
        "\n",
        "for idx, customer_id in enumerate(customer_features['CustomerID']):\n",
        "    # Exclude self-similarity by masking diagonal\n",
        "    similarity_scores = list(enumerate(similarity_matrix[idx]))\n",
        "    similarity_scores = [(i, score) for i, score in similarity_scores if i != idx]\n",
        "\n",
        "    # Sort by similarity score in descending order and get top 3\n",
        "    top_3 = sorted(similarity_scores, key=lambda x: x[1], reverse=True)[:3]\n",
        "    lookalike_dict[customer_id] = [(customer_features['CustomerID'].iloc[i], round(score, 4)) for i, score in top_3]"
      ],
      "metadata": {
        "id": "-8sokkZK6Cpl"
      },
      "execution_count": 27,
      "outputs": []
    },
    {
      "cell_type": "markdown",
      "source": [
        "Create a dictionary or DataFrame where each CustomerID maps to a list of 3 most similar customers with their similarity scores.\n",
        "\n",
        "Save the result as Lookalike.csv."
      ],
      "metadata": {
        "id": "7dk1ndTEBk-F"
      }
    },
    {
      "cell_type": "code",
      "source": [
        "# 4. Create Lookalike.csv\n",
        "lookalike_list = [{'CustomerID': cust_id, 'Lookalikes': str(lookalike_dict[cust_id])} for cust_id in lookalike_dict]\n",
        "lookalike_df = pd.DataFrame(lookalike_list)\n",
        "lookalike_df.to_csv('Lookalike.csv', index=False)\n",
        "print(\"Lookalike Model Complete! Check 'Lookalike.csv' for results.\")"
      ],
      "metadata": {
        "colab": {
          "base_uri": "https://localhost:8080/"
        },
        "id": "P8HL9_L76HUl",
        "outputId": "e4bf1cad-de32-44df-e928-9b2cf010ded4"
      },
      "execution_count": 30,
      "outputs": [
        {
          "output_type": "stream",
          "name": "stdout",
          "text": [
            "Lookalike Model Complete! Check 'Lookalike.csv' for results.\n"
          ]
        }
      ]
    },
    {
      "cell_type": "code",
      "source": [
        "lookalike = pd.read_csv('Lookalike.csv')"
      ],
      "metadata": {
        "id": "aCvb1unp6KKJ"
      },
      "execution_count": 32,
      "outputs": []
    },
    {
      "cell_type": "code",
      "source": [
        "lookalike.head(21)"
      ],
      "metadata": {
        "colab": {
          "base_uri": "https://localhost:8080/",
          "height": 708
        },
        "id": "BHcve1mz6fQ5",
        "outputId": "4bf60efa-2f2c-4d7e-e6d4-1737b352fe08"
      },
      "execution_count": 36,
      "outputs": [
        {
          "output_type": "execute_result",
          "data": {
            "text/plain": [
              "   CustomerID                                         Lookalikes\n",
              "0       C0001  [('C0048', 0.9993), ('C0055', 0.9993), ('C0072...\n",
              "1       C0002  [('C0029', 1.0), ('C0010', 0.9984), ('C0133', ...\n",
              "2       C0003  [('C0166', 0.9966), ('C0160', 0.996), ('C0086'...\n",
              "3       C0004  [('C0017', 0.9989), ('C0173', 0.9977), ('C0101...\n",
              "4       C0005  [('C0186', 0.9997), ('C0112', 0.9995), ('C0007...\n",
              "5       C0006  [('C0117', 0.9999), ('C0168', 0.9981), ('C0070...\n",
              "6       C0007  [('C0120', 0.9995), ('C0050', 0.9991), ('C0115...\n",
              "7       C0008  [('C0124', 0.9837), ('C0104', 0.9805), ('C0065...\n",
              "8       C0009  [('C0083', 0.9992), ('C0198', 0.9942), ('C0077...\n",
              "9       C0010  [('C0029', 0.9984), ('C0002', 0.9984), ('C0133...\n",
              "10      C0011  [('C0064', 0.9997), ('C0137', 0.9984), ('C0174...\n",
              "11      C0012  [('C0182', 0.9968), ('C0136', 0.9968), ('C0195...\n",
              "12      C0013  [('C0145', 0.999), ('C0099', 0.9973), ('C0053'...\n",
              "13      C0014  [('C0060', 0.9998), ('C0097', 0.9993), ('C0151...\n",
              "14      C0015  [('C0123', 0.9997), ('C0063', 0.9993), ('C0032...\n",
              "15      C0016  [('C0183', 0.9986), ('C0107', 0.9984), ('C0056...\n",
              "16      C0017  [('C0004', 0.9989), ('C0173', 0.9976), ('C0101...\n",
              "17      C0018  [('C0171', 0.997), ('C0153', 0.9964), ('C0169'...\n",
              "18      C0019  [('C0116', 0.999), ('C0047', 0.9957), ('C0118'...\n",
              "19      C0020  [('C0130', 0.999), ('C0095', 0.9915), ('C0140'...\n",
              "20      C0021  [('C0173', 0.9981), ('C0122', 0.9978), ('C0155..."
            ],
            "text/html": [
              "\n",
              "  <div id=\"df-5d3deb0d-6877-41a7-b5b7-cf31c8ef7628\" class=\"colab-df-container\">\n",
              "    <div>\n",
              "<style scoped>\n",
              "    .dataframe tbody tr th:only-of-type {\n",
              "        vertical-align: middle;\n",
              "    }\n",
              "\n",
              "    .dataframe tbody tr th {\n",
              "        vertical-align: top;\n",
              "    }\n",
              "\n",
              "    .dataframe thead th {\n",
              "        text-align: right;\n",
              "    }\n",
              "</style>\n",
              "<table border=\"1\" class=\"dataframe\">\n",
              "  <thead>\n",
              "    <tr style=\"text-align: right;\">\n",
              "      <th></th>\n",
              "      <th>CustomerID</th>\n",
              "      <th>Lookalikes</th>\n",
              "    </tr>\n",
              "  </thead>\n",
              "  <tbody>\n",
              "    <tr>\n",
              "      <th>0</th>\n",
              "      <td>C0001</td>\n",
              "      <td>[('C0048', 0.9993), ('C0055', 0.9993), ('C0072...</td>\n",
              "    </tr>\n",
              "    <tr>\n",
              "      <th>1</th>\n",
              "      <td>C0002</td>\n",
              "      <td>[('C0029', 1.0), ('C0010', 0.9984), ('C0133', ...</td>\n",
              "    </tr>\n",
              "    <tr>\n",
              "      <th>2</th>\n",
              "      <td>C0003</td>\n",
              "      <td>[('C0166', 0.9966), ('C0160', 0.996), ('C0086'...</td>\n",
              "    </tr>\n",
              "    <tr>\n",
              "      <th>3</th>\n",
              "      <td>C0004</td>\n",
              "      <td>[('C0017', 0.9989), ('C0173', 0.9977), ('C0101...</td>\n",
              "    </tr>\n",
              "    <tr>\n",
              "      <th>4</th>\n",
              "      <td>C0005</td>\n",
              "      <td>[('C0186', 0.9997), ('C0112', 0.9995), ('C0007...</td>\n",
              "    </tr>\n",
              "    <tr>\n",
              "      <th>5</th>\n",
              "      <td>C0006</td>\n",
              "      <td>[('C0117', 0.9999), ('C0168', 0.9981), ('C0070...</td>\n",
              "    </tr>\n",
              "    <tr>\n",
              "      <th>6</th>\n",
              "      <td>C0007</td>\n",
              "      <td>[('C0120', 0.9995), ('C0050', 0.9991), ('C0115...</td>\n",
              "    </tr>\n",
              "    <tr>\n",
              "      <th>7</th>\n",
              "      <td>C0008</td>\n",
              "      <td>[('C0124', 0.9837), ('C0104', 0.9805), ('C0065...</td>\n",
              "    </tr>\n",
              "    <tr>\n",
              "      <th>8</th>\n",
              "      <td>C0009</td>\n",
              "      <td>[('C0083', 0.9992), ('C0198', 0.9942), ('C0077...</td>\n",
              "    </tr>\n",
              "    <tr>\n",
              "      <th>9</th>\n",
              "      <td>C0010</td>\n",
              "      <td>[('C0029', 0.9984), ('C0002', 0.9984), ('C0133...</td>\n",
              "    </tr>\n",
              "    <tr>\n",
              "      <th>10</th>\n",
              "      <td>C0011</td>\n",
              "      <td>[('C0064', 0.9997), ('C0137', 0.9984), ('C0174...</td>\n",
              "    </tr>\n",
              "    <tr>\n",
              "      <th>11</th>\n",
              "      <td>C0012</td>\n",
              "      <td>[('C0182', 0.9968), ('C0136', 0.9968), ('C0195...</td>\n",
              "    </tr>\n",
              "    <tr>\n",
              "      <th>12</th>\n",
              "      <td>C0013</td>\n",
              "      <td>[('C0145', 0.999), ('C0099', 0.9973), ('C0053'...</td>\n",
              "    </tr>\n",
              "    <tr>\n",
              "      <th>13</th>\n",
              "      <td>C0014</td>\n",
              "      <td>[('C0060', 0.9998), ('C0097', 0.9993), ('C0151...</td>\n",
              "    </tr>\n",
              "    <tr>\n",
              "      <th>14</th>\n",
              "      <td>C0015</td>\n",
              "      <td>[('C0123', 0.9997), ('C0063', 0.9993), ('C0032...</td>\n",
              "    </tr>\n",
              "    <tr>\n",
              "      <th>15</th>\n",
              "      <td>C0016</td>\n",
              "      <td>[('C0183', 0.9986), ('C0107', 0.9984), ('C0056...</td>\n",
              "    </tr>\n",
              "    <tr>\n",
              "      <th>16</th>\n",
              "      <td>C0017</td>\n",
              "      <td>[('C0004', 0.9989), ('C0173', 0.9976), ('C0101...</td>\n",
              "    </tr>\n",
              "    <tr>\n",
              "      <th>17</th>\n",
              "      <td>C0018</td>\n",
              "      <td>[('C0171', 0.997), ('C0153', 0.9964), ('C0169'...</td>\n",
              "    </tr>\n",
              "    <tr>\n",
              "      <th>18</th>\n",
              "      <td>C0019</td>\n",
              "      <td>[('C0116', 0.999), ('C0047', 0.9957), ('C0118'...</td>\n",
              "    </tr>\n",
              "    <tr>\n",
              "      <th>19</th>\n",
              "      <td>C0020</td>\n",
              "      <td>[('C0130', 0.999), ('C0095', 0.9915), ('C0140'...</td>\n",
              "    </tr>\n",
              "    <tr>\n",
              "      <th>20</th>\n",
              "      <td>C0021</td>\n",
              "      <td>[('C0173', 0.9981), ('C0122', 0.9978), ('C0155...</td>\n",
              "    </tr>\n",
              "  </tbody>\n",
              "</table>\n",
              "</div>\n",
              "    <div class=\"colab-df-buttons\">\n",
              "\n",
              "  <div class=\"colab-df-container\">\n",
              "    <button class=\"colab-df-convert\" onclick=\"convertToInteractive('df-5d3deb0d-6877-41a7-b5b7-cf31c8ef7628')\"\n",
              "            title=\"Convert this dataframe to an interactive table.\"\n",
              "            style=\"display:none;\">\n",
              "\n",
              "  <svg xmlns=\"http://www.w3.org/2000/svg\" height=\"24px\" viewBox=\"0 -960 960 960\">\n",
              "    <path d=\"M120-120v-720h720v720H120Zm60-500h600v-160H180v160Zm220 220h160v-160H400v160Zm0 220h160v-160H400v160ZM180-400h160v-160H180v160Zm440 0h160v-160H620v160ZM180-180h160v-160H180v160Zm440 0h160v-160H620v160Z\"/>\n",
              "  </svg>\n",
              "    </button>\n",
              "\n",
              "  <style>\n",
              "    .colab-df-container {\n",
              "      display:flex;\n",
              "      gap: 12px;\n",
              "    }\n",
              "\n",
              "    .colab-df-convert {\n",
              "      background-color: #E8F0FE;\n",
              "      border: none;\n",
              "      border-radius: 50%;\n",
              "      cursor: pointer;\n",
              "      display: none;\n",
              "      fill: #1967D2;\n",
              "      height: 32px;\n",
              "      padding: 0 0 0 0;\n",
              "      width: 32px;\n",
              "    }\n",
              "\n",
              "    .colab-df-convert:hover {\n",
              "      background-color: #E2EBFA;\n",
              "      box-shadow: 0px 1px 2px rgba(60, 64, 67, 0.3), 0px 1px 3px 1px rgba(60, 64, 67, 0.15);\n",
              "      fill: #174EA6;\n",
              "    }\n",
              "\n",
              "    .colab-df-buttons div {\n",
              "      margin-bottom: 4px;\n",
              "    }\n",
              "\n",
              "    [theme=dark] .colab-df-convert {\n",
              "      background-color: #3B4455;\n",
              "      fill: #D2E3FC;\n",
              "    }\n",
              "\n",
              "    [theme=dark] .colab-df-convert:hover {\n",
              "      background-color: #434B5C;\n",
              "      box-shadow: 0px 1px 3px 1px rgba(0, 0, 0, 0.15);\n",
              "      filter: drop-shadow(0px 1px 2px rgba(0, 0, 0, 0.3));\n",
              "      fill: #FFFFFF;\n",
              "    }\n",
              "  </style>\n",
              "\n",
              "    <script>\n",
              "      const buttonEl =\n",
              "        document.querySelector('#df-5d3deb0d-6877-41a7-b5b7-cf31c8ef7628 button.colab-df-convert');\n",
              "      buttonEl.style.display =\n",
              "        google.colab.kernel.accessAllowed ? 'block' : 'none';\n",
              "\n",
              "      async function convertToInteractive(key) {\n",
              "        const element = document.querySelector('#df-5d3deb0d-6877-41a7-b5b7-cf31c8ef7628');\n",
              "        const dataTable =\n",
              "          await google.colab.kernel.invokeFunction('convertToInteractive',\n",
              "                                                    [key], {});\n",
              "        if (!dataTable) return;\n",
              "\n",
              "        const docLinkHtml = 'Like what you see? Visit the ' +\n",
              "          '<a target=\"_blank\" href=https://colab.research.google.com/notebooks/data_table.ipynb>data table notebook</a>'\n",
              "          + ' to learn more about interactive tables.';\n",
              "        element.innerHTML = '';\n",
              "        dataTable['output_type'] = 'display_data';\n",
              "        await google.colab.output.renderOutput(dataTable, element);\n",
              "        const docLink = document.createElement('div');\n",
              "        docLink.innerHTML = docLinkHtml;\n",
              "        element.appendChild(docLink);\n",
              "      }\n",
              "    </script>\n",
              "  </div>\n",
              "\n",
              "\n",
              "<div id=\"df-b671e4f1-66e5-4a52-91bd-e7d4b64ca6f6\">\n",
              "  <button class=\"colab-df-quickchart\" onclick=\"quickchart('df-b671e4f1-66e5-4a52-91bd-e7d4b64ca6f6')\"\n",
              "            title=\"Suggest charts\"\n",
              "            style=\"display:none;\">\n",
              "\n",
              "<svg xmlns=\"http://www.w3.org/2000/svg\" height=\"24px\"viewBox=\"0 0 24 24\"\n",
              "     width=\"24px\">\n",
              "    <g>\n",
              "        <path d=\"M19 3H5c-1.1 0-2 .9-2 2v14c0 1.1.9 2 2 2h14c1.1 0 2-.9 2-2V5c0-1.1-.9-2-2-2zM9 17H7v-7h2v7zm4 0h-2V7h2v10zm4 0h-2v-4h2v4z\"/>\n",
              "    </g>\n",
              "</svg>\n",
              "  </button>\n",
              "\n",
              "<style>\n",
              "  .colab-df-quickchart {\n",
              "      --bg-color: #E8F0FE;\n",
              "      --fill-color: #1967D2;\n",
              "      --hover-bg-color: #E2EBFA;\n",
              "      --hover-fill-color: #174EA6;\n",
              "      --disabled-fill-color: #AAA;\n",
              "      --disabled-bg-color: #DDD;\n",
              "  }\n",
              "\n",
              "  [theme=dark] .colab-df-quickchart {\n",
              "      --bg-color: #3B4455;\n",
              "      --fill-color: #D2E3FC;\n",
              "      --hover-bg-color: #434B5C;\n",
              "      --hover-fill-color: #FFFFFF;\n",
              "      --disabled-bg-color: #3B4455;\n",
              "      --disabled-fill-color: #666;\n",
              "  }\n",
              "\n",
              "  .colab-df-quickchart {\n",
              "    background-color: var(--bg-color);\n",
              "    border: none;\n",
              "    border-radius: 50%;\n",
              "    cursor: pointer;\n",
              "    display: none;\n",
              "    fill: var(--fill-color);\n",
              "    height: 32px;\n",
              "    padding: 0;\n",
              "    width: 32px;\n",
              "  }\n",
              "\n",
              "  .colab-df-quickchart:hover {\n",
              "    background-color: var(--hover-bg-color);\n",
              "    box-shadow: 0 1px 2px rgba(60, 64, 67, 0.3), 0 1px 3px 1px rgba(60, 64, 67, 0.15);\n",
              "    fill: var(--button-hover-fill-color);\n",
              "  }\n",
              "\n",
              "  .colab-df-quickchart-complete:disabled,\n",
              "  .colab-df-quickchart-complete:disabled:hover {\n",
              "    background-color: var(--disabled-bg-color);\n",
              "    fill: var(--disabled-fill-color);\n",
              "    box-shadow: none;\n",
              "  }\n",
              "\n",
              "  .colab-df-spinner {\n",
              "    border: 2px solid var(--fill-color);\n",
              "    border-color: transparent;\n",
              "    border-bottom-color: var(--fill-color);\n",
              "    animation:\n",
              "      spin 1s steps(1) infinite;\n",
              "  }\n",
              "\n",
              "  @keyframes spin {\n",
              "    0% {\n",
              "      border-color: transparent;\n",
              "      border-bottom-color: var(--fill-color);\n",
              "      border-left-color: var(--fill-color);\n",
              "    }\n",
              "    20% {\n",
              "      border-color: transparent;\n",
              "      border-left-color: var(--fill-color);\n",
              "      border-top-color: var(--fill-color);\n",
              "    }\n",
              "    30% {\n",
              "      border-color: transparent;\n",
              "      border-left-color: var(--fill-color);\n",
              "      border-top-color: var(--fill-color);\n",
              "      border-right-color: var(--fill-color);\n",
              "    }\n",
              "    40% {\n",
              "      border-color: transparent;\n",
              "      border-right-color: var(--fill-color);\n",
              "      border-top-color: var(--fill-color);\n",
              "    }\n",
              "    60% {\n",
              "      border-color: transparent;\n",
              "      border-right-color: var(--fill-color);\n",
              "    }\n",
              "    80% {\n",
              "      border-color: transparent;\n",
              "      border-right-color: var(--fill-color);\n",
              "      border-bottom-color: var(--fill-color);\n",
              "    }\n",
              "    90% {\n",
              "      border-color: transparent;\n",
              "      border-bottom-color: var(--fill-color);\n",
              "    }\n",
              "  }\n",
              "</style>\n",
              "\n",
              "  <script>\n",
              "    async function quickchart(key) {\n",
              "      const quickchartButtonEl =\n",
              "        document.querySelector('#' + key + ' button');\n",
              "      quickchartButtonEl.disabled = true;  // To prevent multiple clicks.\n",
              "      quickchartButtonEl.classList.add('colab-df-spinner');\n",
              "      try {\n",
              "        const charts = await google.colab.kernel.invokeFunction(\n",
              "            'suggestCharts', [key], {});\n",
              "      } catch (error) {\n",
              "        console.error('Error during call to suggestCharts:', error);\n",
              "      }\n",
              "      quickchartButtonEl.classList.remove('colab-df-spinner');\n",
              "      quickchartButtonEl.classList.add('colab-df-quickchart-complete');\n",
              "    }\n",
              "    (() => {\n",
              "      let quickchartButtonEl =\n",
              "        document.querySelector('#df-b671e4f1-66e5-4a52-91bd-e7d4b64ca6f6 button');\n",
              "      quickchartButtonEl.style.display =\n",
              "        google.colab.kernel.accessAllowed ? 'block' : 'none';\n",
              "    })();\n",
              "  </script>\n",
              "</div>\n",
              "\n",
              "    </div>\n",
              "  </div>\n"
            ],
            "application/vnd.google.colaboratory.intrinsic+json": {
              "type": "dataframe",
              "variable_name": "lookalike",
              "summary": "{\n  \"name\": \"lookalike\",\n  \"rows\": 200,\n  \"fields\": [\n    {\n      \"column\": \"CustomerID\",\n      \"properties\": {\n        \"dtype\": \"string\",\n        \"num_unique_values\": 200,\n        \"samples\": [\n          \"C0096\",\n          \"C0016\",\n          \"C0031\"\n        ],\n        \"semantic_type\": \"\",\n        \"description\": \"\"\n      }\n    },\n    {\n      \"column\": \"Lookalikes\",\n      \"properties\": {\n        \"dtype\": \"string\",\n        \"num_unique_values\": 200,\n        \"samples\": [\n          \"[('C0114', 0.9987), ('C0148', 0.9979), ('C0105', 0.9924)]\",\n          \"[('C0183', 0.9986), ('C0107', 0.9984), ('C0056', 0.997)]\",\n          \"[('C0166', 0.9991), ('C0025', 0.9978), ('C0178', 0.9978)]\"\n        ],\n        \"semantic_type\": \"\",\n        \"description\": \"\"\n      }\n    }\n  ]\n}"
            }
          },
          "metadata": {},
          "execution_count": 36
        }
      ]
    }
  ]
}